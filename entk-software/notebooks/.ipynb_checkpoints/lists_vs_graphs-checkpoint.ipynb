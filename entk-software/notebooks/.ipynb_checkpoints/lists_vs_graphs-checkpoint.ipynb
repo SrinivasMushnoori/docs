{
 "cells": [
  {
   "cell_type": "code",
   "execution_count": 3,
   "metadata": {
    "collapsed": false
   },
   "outputs": [
    {
     "name": "stderr",
     "output_type": "stream",
     "text": [
      "/home/vivek/.local/lib/python2.7/site-packages/radical/utils/atfork/stdlib_fixer.py:58: UserWarning: logging module already imported before fixup.\n",
      "  warnings.warn('logging module already imported before fixup.')\n"
     ]
    }
   ],
   "source": [
    "# Import modules\n",
    "\n",
    "from radical.entk import Kernel\n",
    "import numpy as np\n",
    "import pandas as pd\n",
    "import sys\n",
    "import pickle\n",
    "import time\n",
    "import networkx as nx"
   ]
  },
  {
   "cell_type": "code",
   "execution_count": 4,
   "metadata": {
    "collapsed": false
   },
   "outputs": [],
   "source": [
    "# Sample Kernel\n",
    "\n",
    "k = Kernel(name='test')\n",
    "\n",
    "k.arguments = []\n",
    "k.cores = 16\n",
    "k.mpi = True\n",
    "\n",
    "k.copy_input_data = []\n",
    "k.link_input_data = []\n",
    "k.copy_output_data = []\n",
    "\n",
    "for val in range(4):\n",
    "    k.copy_input_data += ['ITER_{0}_STAGE_{0}_TASK_{0}/copy_in_{0}.txt'.format(val)]\n",
    "    k.link_input_data += ['ITER_{0}_STAGE_{0}_TASK_{0}/link_{0}.txt'.format(val)]\n",
    "    k.copy_output_data += ['ITER_{0}_STAGE_{0}_TASK_{0}/copy_out_{0}.txt'.format(val)]\n"
   ]
  },
  {
   "cell_type": "code",
   "execution_count": 3,
   "metadata": {
    "collapsed": false
   },
   "outputs": [
    {
     "name": "stdout",
     "output_type": "stream",
     "text": [
      "pipes: 1, stages: 1, tasks: 1, time: 0.000134944915771\n",
      "\n",
      "pipes: 1, stages: 1, tasks: 10, time: 0.000309944152832\n",
      "\n",
      "pipes: 1, stages: 1, tasks: 100, time: 0.00089693069458\n",
      "\n",
      "pipes: 1, stages: 1, tasks: 1000, time: 0.00779700279236\n",
      "\n",
      "pipes: 1, stages: 1, tasks: 10000, time: 0.0767269134521\n",
      "\n",
      "pipes: 1, stages: 1, tasks: 100000, time: 0.865719079971\n",
      "\n"
     ]
    }
   ],
   "source": [
    "# Lists approach -- set1\n",
    "\n",
    "num_pipelines = 1\n",
    "num_stages = 1\n",
    "num_tasks = [1,10,100,1000,10000,100000]\n",
    "\n",
    "for tasks in num_tasks:\n",
    "    start = time.time()\n",
    "    \n",
    "    set_of_tasks = frozenset([Kernel() for _ in range(tasks)]) # equivalent to one stage\n",
    "    list_stages = tuple([set_of_tasks for _ in range(num_stages)]) # equivalent to one pipe\n",
    "    set_of_pipelines = set([list_stages for _ in range(num_pipelines)]) # equivalent to one application\n",
    "    end = time.time()\n",
    "    \n",
    "    print 'pipes: %s, stages: %s, tasks: %s, time: %s\\n'%(num_pipelines, num_stages, tasks, end-start)"
   ]
  },
  {
   "cell_type": "code",
   "execution_count": 4,
   "metadata": {
    "collapsed": false
   },
   "outputs": [
    {
     "name": "stdout",
     "output_type": "stream",
     "text": [
      "pipes: 1, stages: 1, tasks: 100000, time: 1.0490231514\n",
      "\n",
      "pipes: 1, stages: 10, tasks: 100000, time: 1.00938606262\n",
      "\n",
      "pipes: 1, stages: 100, tasks: 100000, time: 1.03241300583\n",
      "\n",
      "pipes: 1, stages: 1000, tasks: 100000, time: 1.02904582024\n",
      "\n",
      "pipes: 1, stages: 10000, tasks: 100000, time: 1.08520388603\n",
      "\n",
      "pipes: 1, stages: 100000, tasks: 100000, time: 1.09068202972\n",
      "\n"
     ]
    }
   ],
   "source": [
    "# Lists approach -- set2\n",
    "\n",
    "num_pipelines = 1\n",
    "num_stages = [1,10,100,1000,10000,100000]\n",
    "num_tasks = 100000\n",
    "\n",
    "for stages in num_stages:\n",
    "    \n",
    "    start = time.time()\n",
    "    set_of_tasks = frozenset([Kernel() for _ in range(num_tasks)]) # equivalent to one stage\n",
    "    list_stages = tuple([set_of_tasks for _ in range(stages)]) # equivalent to one pipe\n",
    "    set_of_pipelines = set([list_stages for _ in range(num_pipelines)]) # equivalent to one application\n",
    "    end = time.time()\n",
    "    \n",
    "    print 'pipes: %s, stages: %s, tasks: %s, time: %s\\n'%(num_pipelines, stages, num_tasks, end-start)"
   ]
  },
  {
   "cell_type": "code",
   "execution_count": 12,
   "metadata": {
    "collapsed": false
   },
   "outputs": [
    {
     "name": "stdout",
     "output_type": "stream",
     "text": [
      "pipes: 1, stages: 100000, tasks: 100000, time: 1.05727887154\n",
      "\n",
      "pipes: 10, stages: 100000, tasks: 100000, time: 1.02423381805\n",
      "\n",
      "pipes: 100, stages: 100000, tasks: 100000, time: 1.0484559536\n",
      "\n",
      "pipes: 1000, stages: 100000, tasks: 100000, time: 1.54291796684\n",
      "\n",
      "pipes: 10000, stages: 100000, tasks: 100000, time: 4.45922398567\n",
      "\n",
      "pipes: 100000, stages: 100000, tasks: 100000, time: 36.8203439713\n",
      "\n"
     ]
    }
   ],
   "source": [
    "# Lists approach -- set3\n",
    "\n",
    "num_pipelines = [1,10,100,1000,10000,100000]\n",
    "num_stages = 100000\n",
    "num_tasks = 100000\n",
    "\n",
    "for pipes in num_pipelines:\n",
    "    \n",
    "    start = time.time()\n",
    "    set_of_tasks = frozenset([Kernel() for _ in range(num_tasks)]) # equivalent to one stage\n",
    "    list_stages = tuple([set_of_tasks for _ in range(num_stages)]) # equivalent to one pipe\n",
    "    set_of_pipelines = set([list_stages for _ in range(pipes)]) # equivalent to one application\n",
    "    end = time.time()\n",
    "    \n",
    "    print 'pipes: %s, stages: %s, tasks: %s, time: %s\\n'%(pipes, num_stages, num_tasks, end-start)"
   ]
  },
  {
   "cell_type": "code",
   "execution_count": 13,
   "metadata": {
    "collapsed": false
   },
   "outputs": [
    {
     "name": "stdout",
     "output_type": "stream",
     "text": [
      "pipes: 1, stages: 1, tasks: 1, time: 0.000200033187866\n",
      "\n",
      "pipes: 1, stages: 1, tasks: 10, time: 0.000486850738525\n",
      "\n",
      "pipes: 1, stages: 1, tasks: 100, time: 0.0015549659729\n",
      "\n",
      "pipes: 1, stages: 1, tasks: 1000, time: 0.0302910804749\n",
      "\n",
      "pipes: 1, stages: 1, tasks: 10000, time: 0.219380140305\n",
      "\n",
      "pipes: 1, stages: 1, tasks: 100000, time: 1.10352301598\n",
      "\n"
     ]
    }
   ],
   "source": [
    "# Nx approach -- set1\n",
    "\n",
    "num_pipelines = 1\n",
    "num_stages = 1\n",
    "num_tasks = [1,10,100,1000,10000,100000]\n",
    "\n",
    "for tasks in num_tasks:\n",
    "    \n",
    "    start = time.time()\n",
    "    \n",
    "    # Create empty set of pipes which is equivalent to the entire application\n",
    "    set_of_pipes=set()\n",
    "    for pipe in range(num_pipelines):\n",
    "    \n",
    "        # Create empty graph for each pipe\n",
    "        Gpipe=nx.Graph()\n",
    "        \n",
    "        for stage in range(num_stages):\n",
    "            \n",
    "            # Create a set of tasks to be added to each stage\n",
    "            set_of_tasks=set([Kernel() for _ in range(tasks)])\n",
    "        \n",
    "            cur_stage = set_of_tasks\n",
    "            \n",
    "            # Add current stage to current pipe\n",
    "            Gpipe.add_nodes_from(cur_stage)\n",
    "        \n",
    "        # Add current pipe to set of pipes\n",
    "        set_of_pipes.add(Gpipe)\n",
    "        \n",
    "    end = time.time()\n",
    "    \n",
    "    print 'pipes: %s, stages: %s, tasks: %s, time: %s\\n'%(num_pipelines, num_stages, tasks, end-start)"
   ]
  },
  {
   "cell_type": "code",
   "execution_count": null,
   "metadata": {
    "collapsed": false
   },
   "outputs": [
    {
     "name": "stdout",
     "output_type": "stream",
     "text": [
      "pipes: 1, stages: 1, tasks: 100, time: 0.753504037857\n",
      "\n",
      "pipes: 1, stages: 10, tasks: 100, time: 0.0078718662262\n",
      "\n",
      "pipes: 1, stages: 100, tasks: 100, time: 0.192361116409\n",
      "\n",
      "pipes: 1, stages: 1000, tasks: 100, time: 1.08765602112\n",
      "\n",
      "pipes: 1, stages: 10000, tasks: 100, time: 11.4099700451\n",
      "\n"
     ]
    }
   ],
   "source": [
    "# Nx approach -- set2\n",
    "\n",
    "num_pipelines = 1\n",
    "num_stages = [1,10,100,1000,10000,100000]\n",
    "num_tasks = 100\n",
    "set2_graphs = []\n",
    "\n",
    "for stages in num_stages:\n",
    "    \n",
    "    start = time.time()\n",
    "    \n",
    "    # Create empty set of pipes which is equivalent to the entire application\n",
    "    set_of_pipes=set()\n",
    "    for pipe in range(num_pipelines):\n",
    "    \n",
    "        # Create empty graph for each pipe\n",
    "        Gpipe=nx.Graph()\n",
    "        \n",
    "        for stage in range(stages):\n",
    "            \n",
    "            # Create a set of tasks to be added to each stage\n",
    "            set_of_tasks=set([Kernel() for _ in range(num_tasks)])\n",
    "        \n",
    "            cur_stage = set_of_tasks\n",
    "            \n",
    "            # Add current stage to current pipe\n",
    "            Gpipe.add_nodes_from(cur_stage)\n",
    "        \n",
    "        # Add current pipe to set of pipes\n",
    "        set_of_pipes.add(Gpipe)\n",
    "        \n",
    "    end = time.time()\n",
    "    \n",
    "    print 'pipes: %s, stages: %s, tasks: %s, time: %s\\n'%(num_pipelines, stages, num_tasks, end-start)"
   ]
  },
  {
   "cell_type": "code",
   "execution_count": 6,
   "metadata": {
    "collapsed": false
   },
   "outputs": [
    {
     "name": "stdout",
     "output_type": "stream",
     "text": [
      "pipes: 1, stages: 10, tasks: 10, time: 0.00315999984741\n",
      "\n",
      "pipes: 10, stages: 10, tasks: 10, time: 0.0145750045776\n",
      "\n",
      "pipes: 100, stages: 10, tasks: 10, time: 0.11411190033\n",
      "\n",
      "pipes: 1000, stages: 10, tasks: 10, time: 1.12096691132\n",
      "\n"
     ]
    },
    {
     "ename": "KeyboardInterrupt",
     "evalue": "",
     "output_type": "error",
     "traceback": [
      "\u001b[0;31m---------------------------------------------------------------------------\u001b[0m",
      "\u001b[0;31mKeyboardInterrupt\u001b[0m                         Traceback (most recent call last)",
      "\u001b[0;32m<ipython-input-6-ddf49dbf682b>\u001b[0m in \u001b[0;36m<module>\u001b[0;34m()\u001b[0m\n\u001b[1;32m     19\u001b[0m \u001b[0;34m\u001b[0m\u001b[0m\n\u001b[1;32m     20\u001b[0m             \u001b[0;31m# Create a set of tasks to be added to each stage\u001b[0m\u001b[0;34m\u001b[0m\u001b[0;34m\u001b[0m\u001b[0m\n\u001b[0;32m---> 21\u001b[0;31m             \u001b[0mset_of_tasks\u001b[0m\u001b[0;34m=\u001b[0m\u001b[0mset\u001b[0m\u001b[0;34m(\u001b[0m\u001b[0;34m[\u001b[0m\u001b[0mKernel\u001b[0m\u001b[0;34m(\u001b[0m\u001b[0;34m)\u001b[0m \u001b[0;32mfor\u001b[0m \u001b[0m_\u001b[0m \u001b[0;32min\u001b[0m \u001b[0mrange\u001b[0m\u001b[0;34m(\u001b[0m\u001b[0mnum_tasks\u001b[0m\u001b[0;34m)\u001b[0m\u001b[0;34m]\u001b[0m\u001b[0;34m)\u001b[0m\u001b[0;34m\u001b[0m\u001b[0m\n\u001b[0m\u001b[1;32m     22\u001b[0m \u001b[0;34m\u001b[0m\u001b[0m\n\u001b[1;32m     23\u001b[0m             \u001b[0mcur_stage\u001b[0m \u001b[0;34m=\u001b[0m \u001b[0mset_of_tasks\u001b[0m\u001b[0;34m\u001b[0m\u001b[0m\n",
      "\u001b[0;32m/home/vivek/.local/lib/python2.7/site-packages/radical/entk/kernel_plugins/kernel.pyc\u001b[0m in \u001b[0;36m__init__\u001b[0;34m(self, name, ktype)\u001b[0m\n\u001b[1;32m     31\u001b[0m                 \u001b[0mself\u001b[0m\u001b[0;34m.\u001b[0m\u001b[0m_copy_output_data\u001b[0m          \u001b[0;34m=\u001b[0m \u001b[0mNone\u001b[0m\u001b[0;34m\u001b[0m\u001b[0m\n\u001b[1;32m     32\u001b[0m \u001b[0;34m\u001b[0m\u001b[0m\n\u001b[0;32m---> 33\u001b[0;31m                 \u001b[0mself\u001b[0m\u001b[0;34m.\u001b[0m\u001b[0m_logger\u001b[0m \u001b[0;34m=\u001b[0m \u001b[0mru\u001b[0m\u001b[0;34m.\u001b[0m\u001b[0mget_logger\u001b[0m\u001b[0;34m(\u001b[0m\u001b[0;34m\"radical.entk.Kernel\"\u001b[0m\u001b[0;34m)\u001b[0m\u001b[0;34m\u001b[0m\u001b[0m\n\u001b[0m\u001b[1;32m     34\u001b[0m \u001b[0;34m\u001b[0m\u001b[0m\n\u001b[1;32m     35\u001b[0m \u001b[0;34m\u001b[0m\u001b[0m\n",
      "\u001b[0;32m/home/vivek/.local/lib/python2.7/site-packages/radical/utils/logger.pyc\u001b[0m in \u001b[0;36mget_logger\u001b[0;34m(name, target, level, path, header)\u001b[0m\n\u001b[1;32m    209\u001b[0m             \u001b[0;32mpass\u001b[0m\u001b[0;34m\u001b[0m\u001b[0m\n\u001b[1;32m    210\u001b[0m \u001b[0;34m\u001b[0m\u001b[0m\n\u001b[0;32m--> 211\u001b[0;31m     \u001b[0mlogger\u001b[0m \u001b[0;34m=\u001b[0m \u001b[0mlogging\u001b[0m\u001b[0;34m.\u001b[0m\u001b[0mgetLogger\u001b[0m\u001b[0;34m(\u001b[0m\u001b[0mname\u001b[0m\u001b[0;34m)\u001b[0m\u001b[0;34m\u001b[0m\u001b[0m\n\u001b[0m\u001b[1;32m    212\u001b[0m     \u001b[0mlogger\u001b[0m\u001b[0;34m.\u001b[0m\u001b[0mpropagate\u001b[0m \u001b[0;34m=\u001b[0m \u001b[0mFalse\u001b[0m   \u001b[0;31m# let messages not trickle upward\u001b[0m\u001b[0;34m\u001b[0m\u001b[0m\n\u001b[1;32m    213\u001b[0m     \u001b[0mlogger\u001b[0m\u001b[0;34m.\u001b[0m\u001b[0mname\u001b[0m \u001b[0;34m=\u001b[0m \u001b[0mname\u001b[0m\u001b[0;34m\u001b[0m\u001b[0m\n",
      "\u001b[0;32m/usr/lib/python2.7/logging/__init__.pyc\u001b[0m in \u001b[0;36mgetLogger\u001b[0;34m(name)\u001b[0m\n\u001b[1;32m   1572\u001b[0m     \"\"\"\n\u001b[1;32m   1573\u001b[0m     \u001b[0;32mif\u001b[0m \u001b[0mname\u001b[0m\u001b[0;34m:\u001b[0m\u001b[0;34m\u001b[0m\u001b[0m\n\u001b[0;32m-> 1574\u001b[0;31m         \u001b[0;32mreturn\u001b[0m \u001b[0mLogger\u001b[0m\u001b[0;34m.\u001b[0m\u001b[0mmanager\u001b[0m\u001b[0;34m.\u001b[0m\u001b[0mgetLogger\u001b[0m\u001b[0;34m(\u001b[0m\u001b[0mname\u001b[0m\u001b[0;34m)\u001b[0m\u001b[0;34m\u001b[0m\u001b[0m\n\u001b[0m\u001b[1;32m   1575\u001b[0m     \u001b[0;32melse\u001b[0m\u001b[0;34m:\u001b[0m\u001b[0;34m\u001b[0m\u001b[0m\n\u001b[1;32m   1576\u001b[0m         \u001b[0;32mreturn\u001b[0m \u001b[0mroot\u001b[0m\u001b[0;34m\u001b[0m\u001b[0m\n",
      "\u001b[0;32m/usr/lib/python2.7/logging/__init__.pyc\u001b[0m in \u001b[0;36mgetLogger\u001b[0;34m(self, name)\u001b[0m\n\u001b[1;32m   1056\u001b[0m                 \u001b[0mself\u001b[0m\u001b[0;34m.\u001b[0m\u001b[0m_fixupParents\u001b[0m\u001b[0;34m(\u001b[0m\u001b[0mrv\u001b[0m\u001b[0;34m)\u001b[0m\u001b[0;34m\u001b[0m\u001b[0m\n\u001b[1;32m   1057\u001b[0m         \u001b[0;32mfinally\u001b[0m\u001b[0;34m:\u001b[0m\u001b[0;34m\u001b[0m\u001b[0m\n\u001b[0;32m-> 1058\u001b[0;31m             \u001b[0m_releaseLock\u001b[0m\u001b[0;34m(\u001b[0m\u001b[0;34m)\u001b[0m\u001b[0;34m\u001b[0m\u001b[0m\n\u001b[0m\u001b[1;32m   1059\u001b[0m         \u001b[0;32mreturn\u001b[0m \u001b[0mrv\u001b[0m\u001b[0;34m\u001b[0m\u001b[0m\n\u001b[1;32m   1060\u001b[0m \u001b[0;34m\u001b[0m\u001b[0m\n",
      "\u001b[0;32m/usr/lib/python2.7/logging/__init__.pyc\u001b[0m in \u001b[0;36m_releaseLock\u001b[0;34m()\u001b[0m\n\u001b[1;32m    217\u001b[0m     \"\"\"\n\u001b[1;32m    218\u001b[0m     \u001b[0;32mif\u001b[0m \u001b[0m_lock\u001b[0m\u001b[0;34m:\u001b[0m\u001b[0;34m\u001b[0m\u001b[0m\n\u001b[0;32m--> 219\u001b[0;31m         \u001b[0m_lock\u001b[0m\u001b[0;34m.\u001b[0m\u001b[0mrelease\u001b[0m\u001b[0;34m(\u001b[0m\u001b[0;34m)\u001b[0m\u001b[0;34m\u001b[0m\u001b[0m\n\u001b[0m\u001b[1;32m    220\u001b[0m \u001b[0;34m\u001b[0m\u001b[0m\n\u001b[1;32m    221\u001b[0m \u001b[0;31m#---------------------------------------------------------------------------\u001b[0m\u001b[0;34m\u001b[0m\u001b[0;34m\u001b[0m\u001b[0m\n",
      "\u001b[0;32m/usr/lib/python2.7/threading.pyc\u001b[0m in \u001b[0;36mrelease\u001b[0;34m(self)\u001b[0m\n\u001b[1;32m    204\u001b[0m             \u001b[0;32mraise\u001b[0m \u001b[0mRuntimeError\u001b[0m\u001b[0;34m(\u001b[0m\u001b[0;34m\"cannot release un-acquired lock\"\u001b[0m\u001b[0;34m)\u001b[0m\u001b[0;34m\u001b[0m\u001b[0m\n\u001b[1;32m    205\u001b[0m         \u001b[0mself\u001b[0m\u001b[0;34m.\u001b[0m\u001b[0m__count\u001b[0m \u001b[0;34m=\u001b[0m \u001b[0mcount\u001b[0m \u001b[0;34m=\u001b[0m \u001b[0mself\u001b[0m\u001b[0;34m.\u001b[0m\u001b[0m__count\u001b[0m \u001b[0;34m-\u001b[0m \u001b[0;36m1\u001b[0m\u001b[0;34m\u001b[0m\u001b[0m\n\u001b[0;32m--> 206\u001b[0;31m         \u001b[0;32mif\u001b[0m \u001b[0;32mnot\u001b[0m \u001b[0mcount\u001b[0m\u001b[0;34m:\u001b[0m\u001b[0;34m\u001b[0m\u001b[0m\n\u001b[0m\u001b[1;32m    207\u001b[0m             \u001b[0mself\u001b[0m\u001b[0;34m.\u001b[0m\u001b[0m__owner\u001b[0m \u001b[0;34m=\u001b[0m \u001b[0mNone\u001b[0m\u001b[0;34m\u001b[0m\u001b[0m\n\u001b[1;32m    208\u001b[0m             \u001b[0mself\u001b[0m\u001b[0;34m.\u001b[0m\u001b[0m__block\u001b[0m\u001b[0;34m.\u001b[0m\u001b[0mrelease\u001b[0m\u001b[0;34m(\u001b[0m\u001b[0;34m)\u001b[0m\u001b[0;34m\u001b[0m\u001b[0m\n",
      "\u001b[0;31mKeyboardInterrupt\u001b[0m: "
     ]
    }
   ],
   "source": [
    "# Nx approach -- set3\n",
    "\n",
    "num_pipelines = [1,10,100,1000,10000,100000]\n",
    "num_stages = 10\n",
    "num_tasks = 10\n",
    "\n",
    "for pipes in num_pipelines:\n",
    "    \n",
    "    start = time.time()\n",
    "    \n",
    "    # Create empty set of pipes which is equivalent to the entire application\n",
    "    set_of_pipes=set()\n",
    "    for pipe in range(pipes):\n",
    "    \n",
    "        # Create empty graph for each pipe\n",
    "        Gpipe=nx.Graph()\n",
    "        \n",
    "        for stage in range(num_stages):\n",
    "            \n",
    "            # Create a set of tasks to be added to each stage\n",
    "            set_of_tasks=set([Kernel() for _ in range(num_tasks)])\n",
    "        \n",
    "            cur_stage = set_of_tasks\n",
    "            \n",
    "            # Add current stage to current pipe\n",
    "            Gpipe.add_nodes_from(cur_stage)\n",
    "        \n",
    "        # Add current pipe to set of pipes\n",
    "        set_of_pipes.add(Gpipe)\n",
    "        \n",
    "    end = time.time()\n",
    "    \n",
    "    print 'pipes: %s, stages: %s, tasks: %s, time: %s\\n'%(pipes, num_stages, num_tasks, end-start)"
   ]
  },
  {
   "cell_type": "code",
   "execution_count": null,
   "metadata": {
    "collapsed": true
   },
   "outputs": [],
   "source": []
  }
 ],
 "metadata": {
  "kernelspec": {
   "display_name": "Python 2",
   "language": "python",
   "name": "python2"
  },
  "language_info": {
   "codemirror_mode": {
    "name": "ipython",
    "version": 2
   },
   "file_extension": ".py",
   "mimetype": "text/x-python",
   "name": "python",
   "nbconvert_exporter": "python",
   "pygments_lexer": "ipython2",
   "version": "2.7.12"
  }
 },
 "nbformat": 4,
 "nbformat_minor": 1
}
