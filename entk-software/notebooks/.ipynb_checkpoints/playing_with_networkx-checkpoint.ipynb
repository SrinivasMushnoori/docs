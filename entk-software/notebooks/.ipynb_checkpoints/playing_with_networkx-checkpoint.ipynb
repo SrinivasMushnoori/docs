{
 "cells": [
  {
   "cell_type": "code",
   "execution_count": 1,
   "metadata": {
    "collapsed": false
   },
   "outputs": [
    {
     "name": "stderr",
     "output_type": "stream",
     "text": [
      "/home/vivek/.local/lib/python2.7/site-packages/radical/utils/atfork/stdlib_fixer.py:58: UserWarning: logging module already imported before fixup.\n",
      "  warnings.warn('logging module already imported before fixup.')\n"
     ]
    }
   ],
   "source": [
    "# Import modules\n",
    "\n",
    "from radical.entk import Kernel\n",
    "import numpy as np\n",
    "import pandas as pd\n",
    "import sys\n",
    "import pickle\n",
    "import time\n",
    "import networkx as nx\n",
    "import matplotlib.pyplot as plt"
   ]
  },
  {
   "cell_type": "code",
   "execution_count": 2,
   "metadata": {
    "collapsed": true
   },
   "outputs": [],
   "source": [
    "# Sample Kernel\n",
    "\n",
    "k = Kernel(name='test')\n",
    "\n",
    "k.arguments = []\n",
    "k.cores = 16\n",
    "k.mpi = True\n",
    "\n",
    "k.copy_input_data = []\n",
    "k.link_input_data = []\n",
    "k.copy_output_data = []\n",
    "\n",
    "for val in range(4):\n",
    "    k.copy_input_data += ['ITER_{0}_STAGE_{0}_TASK_{0}/copy_in_{0}.txt'.format(val)]\n",
    "    k.link_input_data += ['ITER_{0}_STAGE_{0}_TASK_{0}/link_{0}.txt'.format(val)]\n",
    "    k.copy_output_data += ['ITER_{0}_STAGE_{0}_TASK_{0}/copy_out_{0}.txt'.format(val)]"
   ]
  },
  {
   "cell_type": "code",
   "execution_count": 75,
   "metadata": {
    "collapsed": true
   },
   "outputs": [],
   "source": [
    "# Constants\n",
    "stages = 3\n",
    "pipelines = 1\n",
    "tasks = 1"
   ]
  },
  {
   "cell_type": "code",
   "execution_count": 77,
   "metadata": {
    "collapsed": false
   },
   "outputs": [],
   "source": [
    "# Create graph\n",
    "poe_graph = nx.Graph()\n",
    "task_graph = nx.Graph()\n",
    "\n",
    "for cnt in range(1,tasks+1):\n",
    "    task_graph.add_node(k) \n",
    "    \n",
    "for pipe in range(1,pipelines+1):\n",
    "    cnt=1\n",
    "    for stage in range(1,stages+1):\n",
    "        poe_graph.add_node('%s_%s'%(pipe,cnt),tasks=task_graph)\n",
    "        cnt+=1\n",
    "    edges = []\n",
    "    nodes = poe_graph.nodes()\n",
    "    filtered_nodes = []\n",
    "    for node in nodes:\n",
    "        if node.startswith('%s'%pipe):\n",
    "            filtered_nodes.append(node)\n",
    "    \n",
    "    for cnt in range(len(filtered_nodes)-1):\n",
    "        edges.append((filtered_nodes[cnt],filtered_nodes[cnt+1]))\n",
    "    poe_graph.add_edges_from(edges)"
   ]
  },
  {
   "cell_type": "code",
   "execution_count": 80,
   "metadata": {
    "collapsed": false
   },
   "outputs": [
    {
     "data": {
      "image/png": "[encoded data removed]",
      "text/plain": [
       "<matplotlib.figure.Figure at 0x7f7f035cae50>"
      ]
     },
     "metadata": {},
     "output_type": "display_data"
    }
   ],
   "source": [
    "# Plot graph\n",
    "\n",
    "#nx.draw_circular(poe_graph)\n",
    "nx.draw_circular(task_graph)\n",
    "plt.show()"
   ]
  },
  {
   "cell_type": "code",
   "execution_count": null,
   "metadata": {
    "collapsed": true
   },
   "outputs": [],
   "source": []
  }
 ],
 "metadata": {
  "kernelspec": {
   "display_name": "Python 2",
   "language": "python",
   "name": "python2"
  },
  "language_info": {
   "codemirror_mode": {
    "name": "ipython",
    "version": 2
   },
   "file_extension": ".py",
   "mimetype": "text/x-python",
   "name": "python",
   "nbconvert_exporter": "python",
   "pygments_lexer": "ipython2",
   "version": "2.7.12"
  }
 },
 "nbformat": 4,
 "nbformat_minor": 1
}
