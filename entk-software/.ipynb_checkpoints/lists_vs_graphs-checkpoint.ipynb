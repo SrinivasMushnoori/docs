{
 "cells": [
  {
   "cell_type": "code",
   "execution_count": 35,
   "metadata": {
    "collapsed": false
   },
   "outputs": [],
   "source": [
    "# Import modules\n",
    "\n",
    "from radical.entk import Kernel\n",
    "import numpy as np\n",
    "import pandas as pd\n",
    "import sys\n",
    "import pickle\n",
    "import time\n",
    "import networkx as nx"
   ]
  },
  {
   "cell_type": "code",
   "execution_count": 25,
   "metadata": {
    "collapsed": false
   },
   "outputs": [],
   "source": [
    "# Sample Kernel\n",
    "\n",
    "k = Kernel(name='test')\n",
    "\n",
    "k.arguments = []\n",
    "k.cores = 16\n",
    "k.mpi = True\n",
    "\n",
    "k.copy_input_data = []\n",
    "k.link_input_data = []\n",
    "k.copy_output_data = []\n",
    "\n",
    "for val in range(4):\n",
    "    k.copy_input_data += ['ITER_{0}_STAGE_{0}_TASK_{0}/copy_in_{0}.txt'.format(val)]\n",
    "    k.link_input_data += ['ITER_{0}_STAGE_{0}_TASK_{0}/link_{0}.txt'.format(val)]\n",
    "    k.copy_output_data += ['ITER_{0}_STAGE_{0}_TASK_{0}/copy_out_{0}.txt'.format(val)]\n"
   ]
  },
  {
   "cell_type": "code",
   "execution_count": 45,
   "metadata": {
    "collapsed": false
   },
   "outputs": [
    {
     "name": "stdout",
     "output_type": "stream",
     "text": [
      "pipes: 1, stages: 1, tasks: 1, time: 0.00115990638733\n",
      "\n",
      "pipes: 1, stages: 1, tasks: 10, time: 1.38282775879e-05\n",
      "\n",
      "pipes: 1, stages: 1, tasks: 100, time: 3.981590271e-05\n",
      "\n",
      "pipes: 1, stages: 1, tasks: 1000, time: 0.000263214111328\n",
      "\n",
      "pipes: 1, stages: 1, tasks: 10000, time: 0.00157690048218\n",
      "\n",
      "pipes: 1, stages: 1, tasks: 100000, time: 0.00992584228516\n",
      "\n"
     ]
    }
   ],
   "source": [
    "# Lists approach -- set1\n",
    "\n",
    "num_pipelines = 1\n",
    "num_stages = 1\n",
    "num_tasks = [1,10,100,1000,10000,100000]\n",
    "set1_lists = []\n",
    "\n",
    "for tasks in num_tasks:\n",
    "    start = time.time()\n",
    "    list_tasks = [k for _ in range(tasks)]\n",
    "    list_stages = [list_tasks for _ in range(num_stages)]\n",
    "    list_pipelines = [list_stages for _ in range(num_pipelines)]\n",
    "    end = time.time()\n",
    "    \n",
    "    set1_lists.append(end - start)\n",
    "    \n",
    "    print 'pipes: %s, stages: %s, tasks: %s, time: %s\\n'%(num_pipelines, num_stages, tasks, end-start)"
   ]
  },
  {
   "cell_type": "code",
   "execution_count": 46,
   "metadata": {
    "collapsed": false
   },
   "outputs": [
    {
     "name": "stdout",
     "output_type": "stream",
     "text": [
      "pipes: 1, stages: 1, tasks: 100000, time: 0.0149290561676\n",
      "\n",
      "pipes: 1, stages: 10, tasks: 100000, time: 0.0131940841675\n",
      "\n",
      "pipes: 1, stages: 100, tasks: 100000, time: 0.0105600357056\n",
      "\n",
      "pipes: 1, stages: 1000, tasks: 100000, time: 0.010421037674\n",
      "\n",
      "pipes: 1, stages: 10000, tasks: 100000, time: 0.0108089447021\n",
      "\n",
      "pipes: 1, stages: 100000, tasks: 100000, time: 0.0179209709167\n",
      "\n"
     ]
    }
   ],
   "source": [
    "# Lists approach -- set2\n",
    "\n",
    "num_pipelines = 1\n",
    "num_stages = [1,10,100,1000,10000,100000]\n",
    "num_tasks = 100000\n",
    "set2_lists = []\n",
    "\n",
    "for stages in num_stages:\n",
    "    start = time.time()\n",
    "    list_tasks = [k for _ in range(num_tasks)]\n",
    "    list_stages = [list_tasks for _ in range(stages)]\n",
    "    list_pipelines = [list_stages for _ in range(num_pipelines)]\n",
    "    end = time.time()\n",
    "    \n",
    "    set2_lists.append(end - start)\n",
    "    \n",
    "    print 'pipes: %s, stages: %s, tasks: %s, time: %s\\n'%(num_pipelines, stages, num_tasks, end-start)"
   ]
  },
  {
   "cell_type": "code",
   "execution_count": 47,
   "metadata": {
    "collapsed": false
   },
   "outputs": [
    {
     "name": "stdout",
     "output_type": "stream",
     "text": [
      "pipes: 1, stages: 100000, tasks: 100000, time: 0.0251529216766\n",
      "\n",
      "pipes: 10, stages: 100000, tasks: 100000, time: 0.0212619304657\n",
      "\n",
      "pipes: 100, stages: 100000, tasks: 100000, time: 0.0190370082855\n",
      "\n",
      "pipes: 1000, stages: 100000, tasks: 100000, time: 0.0182149410248\n",
      "\n",
      "pipes: 10000, stages: 100000, tasks: 100000, time: 0.0177040100098\n",
      "\n",
      "pipes: 100000, stages: 100000, tasks: 100000, time: 0.0231430530548\n",
      "\n"
     ]
    }
   ],
   "source": [
    "# Lists approach -- set3\n",
    "\n",
    "num_pipelines = [1,10,100,1000,10000,100000]\n",
    "num_stages = 100000\n",
    "num_tasks = 100000\n",
    "set3_lists = []\n",
    "\n",
    "for pipes in num_pipelines:\n",
    "    start = time.time()\n",
    "    list_tasks = [k for _ in range(num_tasks)]\n",
    "    list_stages = [list_tasks for _ in range(num_stages)]\n",
    "    list_pipelines = [list_stages for _ in range(pipes)]\n",
    "    end = time.time()\n",
    "    \n",
    "    set3_lists.append(end - start)\n",
    "    \n",
    "    print 'pipes: %s, stages: %s, tasks: %s, time: %s\\n'%(pipes, num_stages, tasks, end-start)"
   ]
  },
  {
   "cell_type": "code",
   "execution_count": 48,
   "metadata": {
    "collapsed": false
   },
   "outputs": [
    {
     "name": "stdout",
     "output_type": "stream",
     "text": [
      "pipes: 1, stages: 1, tasks: 1, time: 2.09808349609e-05\n",
      "\n",
      "pipes: 1, stages: 1, tasks: 10, time: 5.19752502441e-05\n",
      "\n",
      "pipes: 1, stages: 1, tasks: 100, time: 0.000368118286133\n",
      "\n",
      "pipes: 1, stages: 1, tasks: 1000, time: 0.00105810165405\n",
      "\n",
      "pipes: 1, stages: 1, tasks: 10000, time: 0.00720906257629\n",
      "\n",
      "pipes: 1, stages: 1, tasks: 100000, time: 0.0626349449158\n",
      "\n"
     ]
    }
   ],
   "source": [
    "# Nx approach -- set1\n",
    "\n",
    "Gtasks=nx.Graph()\n",
    "Gstages=nx.Graph()\n",
    "Gpipes=nx.Graph()\n",
    "num_pipelines = 1\n",
    "num_stages = 1\n",
    "num_tasks = [1,10,100,1000,10000,100000]\n",
    "set1_graphs = []\n",
    "\n",
    "for tasks in num_tasks:\n",
    "    \n",
    "    start = time.time()\n",
    "    Gtasks.add_nodes_from([k for _ in range(tasks)])\n",
    "    Gstages.add_nodes_from([Gtasks for _ in range(num_stages)])\n",
    "    Gpipes.add_nodes_from([Gstages for _ in range(num_pipelines)])\n",
    "    end = time.time()\n",
    "    \n",
    "    set1_graphs.append(end-start)\n",
    "    \n",
    "    print 'pipes: %s, stages: %s, tasks: %s, time: %s\\n'%(num_pipelines, num_stages, tasks, end-start)"
   ]
  },
  {
   "cell_type": "code",
   "execution_count": 49,
   "metadata": {
    "collapsed": false
   },
   "outputs": [
    {
     "name": "stdout",
     "output_type": "stream",
     "text": [
      "pipes: 1, stages: 1, tasks: 100000, time: 0.0658328533173\n",
      "\n",
      "pipes: 1, stages: 10, tasks: 100000, time: 0.0473051071167\n",
      "\n",
      "pipes: 1, stages: 100, tasks: 100000, time: 0.0466458797455\n",
      "\n",
      "pipes: 1, stages: 1000, tasks: 100000, time: 0.037122964859\n",
      "\n",
      "pipes: 1, stages: 10000, tasks: 100000, time: 0.0403831005096\n",
      "\n",
      "pipes: 1, stages: 100000, tasks: 100000, time: 0.0734868049622\n",
      "\n"
     ]
    }
   ],
   "source": [
    "# Nx approach -- set2\n",
    "\n",
    "Gtasks=nx.Graph()\n",
    "Gstages=nx.Graph()\n",
    "Gpipes=nx.Graph()\n",
    "num_pipelines = 1\n",
    "num_stages = [1,10,100,1000,10000,100000]\n",
    "num_tasks = 100000\n",
    "set2_graphs = []\n",
    "\n",
    "for stages in num_stages:\n",
    "    \n",
    "    start = time.time()\n",
    "    Gtasks.add_nodes_from([k for _ in range(num_tasks)])\n",
    "    Gstages.add_nodes_from([Gtasks for _ in range(stages)])\n",
    "    Gpipes.add_nodes_from([Gstages for _ in range(num_pipelines)])\n",
    "    end = time.time()\n",
    "    \n",
    "    set2_graphs.append(end-start)\n",
    "    \n",
    "    print 'pipes: %s, stages: %s, tasks: %s, time: %s\\n'%(num_pipelines, stages, num_tasks, end-start)"
   ]
  },
  {
   "cell_type": "code",
   "execution_count": 50,
   "metadata": {
    "collapsed": false
   },
   "outputs": [
    {
     "name": "stdout",
     "output_type": "stream",
     "text": [
      "pipes: 1, stages: 100000, tasks: 100000, time: 0.110481023788\n",
      "\n",
      "pipes: 10, stages: 100000, tasks: 100000, time: 0.0776460170746\n",
      "\n",
      "pipes: 100, stages: 100000, tasks: 100000, time: 0.0687971115112\n",
      "\n",
      "pipes: 1000, stages: 100000, tasks: 100000, time: 0.0941569805145\n",
      "\n",
      "pipes: 10000, stages: 100000, tasks: 100000, time: 0.074923992157\n",
      "\n",
      "pipes: 100000, stages: 100000, tasks: 100000, time: 0.106911897659\n",
      "\n"
     ]
    }
   ],
   "source": [
    "# Nx approach -- set3\n",
    "\n",
    "Gtasks=nx.Graph()\n",
    "Gstages=nx.Graph()\n",
    "Gpipes=nx.Graph()\n",
    "num_pipelines = [1,10,100,1000,10000,100000]\n",
    "num_stages = 100000\n",
    "num_tasks = 100000\n",
    "set3_graphs = []\n",
    "\n",
    "for pipes in num_pipelines:\n",
    "    \n",
    "    start = time.time()\n",
    "    Gtasks.add_nodes_from([k for _ in range(num_tasks)])\n",
    "    Gstages.add_nodes_from([Gtasks for _ in range(num_stages)])\n",
    "    Gpipes.add_nodes_from([Gstages for _ in range(pipes)])\n",
    "    end = time.time()\n",
    "    \n",
    "    set3_graphs.append(end-start)\n",
    "    \n",
    "    print 'pipes: %s, stages: %s, tasks: %s, time: %s\\n'%(pipes, stages, num_tasks, end-start)"
   ]
  },
  {
   "cell_type": "code",
   "execution_count": null,
   "metadata": {
    "collapsed": true
   },
   "outputs": [],
   "source": []
  }
 ],
 "metadata": {
  "kernelspec": {
   "display_name": "Python 2",
   "language": "python",
   "name": "python2"
  },
  "language_info": {
   "codemirror_mode": {
    "name": "ipython",
    "version": 2
   },
   "file_extension": ".py",
   "mimetype": "text/x-python",
   "name": "python",
   "nbconvert_exporter": "python",
   "pygments_lexer": "ipython2",
   "version": "2.7.12"
  }
 },
 "nbformat": 4,
 "nbformat_minor": 1
}
